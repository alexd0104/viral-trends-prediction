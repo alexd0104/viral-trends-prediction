{
 "cells": [
  {
   "cell_type": "markdown",
   "id": "640ce6e0",
   "metadata": {},
   "source": [
    "# Importations"
   ]
  },
  {
   "cell_type": "code",
   "execution_count": 13,
   "id": "21bd5670",
   "metadata": {},
   "outputs": [],
   "source": [
    "import pandas as pd\n",
    "import sklearn"
   ]
  },
  {
   "cell_type": "markdown",
   "id": "a2002a17",
   "metadata": {},
   "source": [
    "# Importation de la dataset \n",
    "\n",
    "Pour la logistic regression, on préfèrera le OH Encoding "
   ]
  },
  {
   "cell_type": "code",
   "execution_count": 14,
   "id": "e5af54fd",
   "metadata": {},
   "outputs": [],
   "source": [
    "df = pd.read_csv(\"../dataset/prepared_data_OH.csv\")"
   ]
  },
  {
   "cell_type": "markdown",
   "id": "75ede630",
   "metadata": {},
   "source": [
    "# Split entre train set et test set "
   ]
  },
  {
   "cell_type": "code",
   "execution_count": 15,
   "id": "0ba2a2e7",
   "metadata": {},
   "outputs": [],
   "source": [
    "y = df[\"Engagement_Level\"]\n",
    "X = df.drop(\"Engagement_Level\", axis = 1)"
   ]
  },
  {
   "cell_type": "code",
   "execution_count": 16,
   "id": "234351f8",
   "metadata": {},
   "outputs": [],
   "source": [
    "from sklearn.model_selection import train_test_split\n",
    "\n",
    "X_train, X_test, y_train, y_test = train_test_split(X, y, test_size=0.2, stratify=y, random_state=42)\n"
   ]
  }
 ],
 "metadata": {
  "kernelspec": {
   "display_name": "Python 3",
   "language": "python",
   "name": "python3"
  },
  "language_info": {
   "codemirror_mode": {
    "name": "ipython",
    "version": 3
   },
   "file_extension": ".py",
   "mimetype": "text/x-python",
   "name": "python",
   "nbconvert_exporter": "python",
   "pygments_lexer": "ipython3",
   "version": "3.10.12"
  }
 },
 "nbformat": 4,
 "nbformat_minor": 5
}
