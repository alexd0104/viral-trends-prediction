{
 "cells": [
  {
   "cell_type": "markdown",
   "id": "85553046",
   "metadata": {},
   "source": [
    "# Importations"
   ]
  },
  {
   "cell_type": "code",
   "execution_count": 6,
   "id": "f961dc2c",
   "metadata": {},
   "outputs": [],
   "source": [
    "import pandas as pd\n",
    "import sklearn \n",
    "import scipy\n"
   ]
  },
  {
   "cell_type": "markdown",
   "id": "4871803f",
   "metadata": {},
   "source": [
    "# Chargement des données"
   ]
  },
  {
   "cell_type": "code",
   "execution_count": 7,
   "id": "a9c8a2b9",
   "metadata": {},
   "outputs": [],
   "source": [
    "df = pd.read_csv(\"../dataset/Viral_Social_Media_Trends.csv\")"
   ]
  },
  {
   "cell_type": "markdown",
   "id": "b8839d56",
   "metadata": {},
   "source": [
    "# Vérification des données manquantes et des doublons"
   ]
  },
  {
   "cell_type": "code",
   "execution_count": 8,
   "id": "81d0175e",
   "metadata": {},
   "outputs": [
    {
     "name": "stdout",
     "output_type": "stream",
     "text": [
      "nombre de valeurs manquantes\n",
      "Post_ID             0\n",
      "Platform            0\n",
      "Hashtag             0\n",
      "Content_Type        0\n",
      "Region              0\n",
      "Views               0\n",
      "Likes               0\n",
      "Shares              0\n",
      "Comments            0\n",
      "Engagement_Level    0\n",
      "dtype: int64\n"
     ]
    }
   ],
   "source": [
    "print(\"nombre de valeurs manquantes\")\n",
    "print(df.isnull().sum())\n"
   ]
  },
  {
   "cell_type": "code",
   "execution_count": 9,
   "id": "54084059",
   "metadata": {},
   "outputs": [
    {
     "name": "stdout",
     "output_type": "stream",
     "text": [
      "nombre de doublons : 0\n"
     ]
    }
   ],
   "source": [
    "print(\"nombre de doublons : \" + str(df.duplicated().sum()))\n"
   ]
  },
  {
   "cell_type": "markdown",
   "id": "d9017b1b",
   "metadata": {},
   "source": [
    "Pas de valeurs manquantes et pas de doublons dans la dataset, il n'y a donc rien à faire ici."
   ]
  },
  {
   "cell_type": "markdown",
   "id": "b10446ba",
   "metadata": {},
   "source": [
    "# Nettoyage simple"
   ]
  },
  {
   "cell_type": "code",
   "execution_count": 10,
   "id": "992862d1",
   "metadata": {},
   "outputs": [],
   "source": [
    "df.drop(['Post_ID'], axis = 1, inplace=True)"
   ]
  },
  {
   "cell_type": "markdown",
   "id": "76e7015d",
   "metadata": {},
   "source": [
    "### On mets toutes les variables string au même format : en minuscule et sans espace"
   ]
  },
  {
   "cell_type": "code",
   "execution_count": 11,
   "id": "c4fbcf5e",
   "metadata": {},
   "outputs": [],
   "source": [
    "for col in ['Platform', 'Content_Type', 'Region']:\n",
    "    df[col] = df[col].str.lower().str.strip()"
   ]
  },
  {
   "cell_type": "code",
   "execution_count": 12,
   "id": "42c949f7",
   "metadata": {},
   "outputs": [],
   "source": [
    "df['Hashtag'] = df['Hashtag'].str.lower().str.strip()"
   ]
  },
  {
   "cell_type": "markdown",
   "id": "8039dd5c",
   "metadata": {},
   "source": [
    "### Affichage des données uniques (vérification de l'orthographe)"
   ]
  },
  {
   "cell_type": "code",
   "execution_count": 13,
   "id": "40c6f282",
   "metadata": {},
   "outputs": [
    {
     "name": "stdout",
     "output_type": "stream",
     "text": [
      "Platform\n",
      "youtube      1324\n",
      "tiktok       1260\n",
      "instagram    1212\n",
      "twitter      1204\n",
      "Name: count, dtype: int64\n",
      "----------------------------\n",
      "Content_Type\n",
      "live stream    855\n",
      "post           853\n",
      "reel           841\n",
      "tweet          836\n",
      "video          828\n",
      "shorts         787\n",
      "Name: count, dtype: int64\n",
      "----------------------------\n",
      "Region\n",
      "usa          677\n",
      "canada       658\n",
      "uk           647\n",
      "brazil       641\n",
      "india        617\n",
      "australia    602\n",
      "japan        592\n",
      "germany      566\n",
      "Name: count, dtype: int64\n",
      "----------------------------\n"
     ]
    }
   ],
   "source": [
    "for col in ['Platform', 'Content_Type', 'Region']:\n",
    "    print(df[col].value_counts())\n",
    "    print(\"----------------------------\")"
   ]
  },
  {
   "cell_type": "markdown",
   "id": "1767e0f8",
   "metadata": {},
   "source": [
    "# Encodage des variables categorielles "
   ]
  },
  {
   "cell_type": "markdown",
   "id": "738df9ea",
   "metadata": {},
   "source": [
    "Ici, on encode les variables catégorielles à l'aide de One Hot encoding "
   ]
  },
  {
   "cell_type": "code",
   "execution_count": 14,
   "id": "2a93e6c6",
   "metadata": {},
   "outputs": [],
   "source": [
    "df = pd.get_dummies(df, columns=[\"Platform\", \"Content_Type\", \"Region\"], drop_first=True)\n",
    "\n",
    "columns_to_convert = [col for col in df.columns if col.startswith(('Platform', 'Content_Type', 'Region'))]\n",
    "\n",
    "df[columns_to_convert] = df[columns_to_convert].astype(int)"
   ]
  },
  {
   "cell_type": "code",
   "execution_count": 15,
   "id": "445effed",
   "metadata": {},
   "outputs": [],
   "source": [
    "def label_replace(x) :\n",
    "    if x == \"Low\" : \n",
    "        return 0\n",
    "    elif x == \"Medium\" : \n",
    "        return 1\n",
    "    else :\n",
    "        return 2\n",
    "\n",
    "df[\"Engagement_Level\"] = df[\"Engagement_Level\"].map(label_replace)"
   ]
  },
  {
   "cell_type": "markdown",
   "id": "f2f474f6",
   "metadata": {},
   "source": [
    "# Encodage des Hashtag\n",
    "\n",
    "On va appliquer un encodage TF IDF aux Hashtag"
   ]
  },
  {
   "cell_type": "code",
   "execution_count": 16,
   "id": "88cef086",
   "metadata": {},
   "outputs": [],
   "source": [
    "from sklearn.feature_extraction.text import TfidfVectorizer\n",
    "\n",
    "tfidf = TfidfVectorizer() \n",
    "\n",
    "tfidf_matrix = tfidf.fit_transform(df['Hashtag'])\n",
    "\n",
    "tfidf_df = pd.DataFrame(tfidf_matrix.toarray(), columns=tfidf.get_feature_names_out())\n",
    "\n",
    "df = df.reset_index(drop=True)  # pour aligner les index\n",
    "df = pd.concat([df.drop(columns=[\"Hashtag\"]), tfidf_df], axis=1)"
   ]
  },
  {
   "cell_type": "markdown",
   "id": "318af3f1",
   "metadata": {},
   "source": [
    "# Sauvegarde de la df "
   ]
  },
  {
   "cell_type": "code",
   "execution_count": 17,
   "id": "5b334fc3",
   "metadata": {},
   "outputs": [],
   "source": [
    "df.to_csv(\"../dataset/prepared_data_OH.csv\", index = False)"
   ]
  }
 ],
 "metadata": {
  "kernelspec": {
   "display_name": "Python 3",
   "language": "python",
   "name": "python3"
  },
  "language_info": {
   "codemirror_mode": {
    "name": "ipython",
    "version": 3
   },
   "file_extension": ".py",
   "mimetype": "text/x-python",
   "name": "python",
   "nbconvert_exporter": "python",
   "pygments_lexer": "ipython3",
   "version": "3.10.12"
  }
 },
 "nbformat": 4,
 "nbformat_minor": 5
}
